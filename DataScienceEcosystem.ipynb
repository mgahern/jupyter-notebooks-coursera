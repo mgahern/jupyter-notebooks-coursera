{
 "cells": [
  {
   "cell_type": "markdown",
   "id": "e0d3eb09-1ef3-4d50-b7e5-06c4c0cb0a77",
   "metadata": {},
   "source": [
    "# Data Science Tools and Ecosystem"
   ]
  },
  {
   "cell_type": "markdown",
   "id": "3612de9e-b9f1-43fc-8b37-a5143941ace3",
   "metadata": {},
   "source": [
    "In this notebook, Data Science Tools and Ecosystem are summarized."
   ]
  },
  {
   "cell_type": "markdown",
   "id": "c97bd5dc-757a-46b2-b109-db1c66fbbfba",
   "metadata": {},
   "source": [
    "## Author\n",
    "Miriam"
   ]
  },
  {
   "cell_type": "markdown",
   "id": "64074223-79f5-4780-a52a-29d256a8fa56",
   "metadata": {},
   "source": [
    "**Objectives:**\n",
    " - List popular languages for Data Science\n",
    " - List popular libraries for Data Science\n",
    " - List popular tools for Data Science\n",
    " - Demonstrate arithmatic expressions in Python"
   ]
  },
  {
   "cell_type": "markdown",
   "id": "3b2ea0de-9290-491e-81e1-bc05998f198c",
   "metadata": {},
   "source": [
    "Some of the popular languages that Data Scientists use are:\n",
    " 1. SQL\n",
    " 2. Python\n",
    " 3. R"
   ]
  },
  {
   "cell_type": "markdown",
   "id": "4e2700ea-a3fd-4c0a-8dd0-d1fca0b4898f",
   "metadata": {},
   "source": [
    "Some of the commonly used libraries used by Data Scientists include:\n",
    " 1. Matplotlib\n",
    " 2. NumPy\n",
    " 3. TensorFlow"
   ]
  },
  {
   "cell_type": "markdown",
   "id": "91c5929f-02b9-4f70-9513-689b8b45d152",
   "metadata": {},
   "source": [
    " | Data Science Tools |\n",
    " | ---- |\n",
    " | RStudio |\n",
    " |Apache Spark |\n",
    " | TensorFlow |"
   ]
  },
  {
   "cell_type": "markdown",
   "id": "b99d6fe8-8783-4dee-ae1c-5247f3ab7ef9",
   "metadata": {},
   "source": [
    "### Below are a few examples of evaluating arithmetic expressions in Python"
   ]
  },
  {
   "cell_type": "code",
   "execution_count": 3,
   "id": "9cd6b839-3e39-4a87-b6de-37b251d8adf5",
   "metadata": {},
   "outputs": [
    {
     "name": "stdout",
     "output_type": "stream",
     "text": [
      "17\n"
     ]
    }
   ],
   "source": [
    "#This a simple arithmetic expression to mutiply then add integers\n",
    "print((3*4)+5)"
   ]
  },
  {
   "cell_type": "code",
   "execution_count": 12,
   "id": "b5214ea7-1adf-4191-841c-760930ccddd7",
   "metadata": {},
   "outputs": [
    {
     "name": "stdout",
     "output_type": "stream",
     "text": [
      "200 minutes = 3.33 hours\n"
     ]
    }
   ],
   "source": [
    "#This will convert 200 minutes to hours by diving by 60\n",
    "divide = 200/60\n",
    "print(\"200 minutes = \" + str(round(divide, 2)) + \" hours\")"
   ]
  },
  {
   "cell_type": "code",
   "execution_count": null,
   "id": "fceaa9c9-9d2d-4c12-9234-e7436323e949",
   "metadata": {},
   "outputs": [],
   "source": []
  }
 ],
 "metadata": {
  "kernelspec": {
   "display_name": "Python",
   "language": "python",
   "name": "conda-env-python-py"
  },
  "language_info": {
   "codemirror_mode": {
    "name": "ipython",
    "version": 3
   },
   "file_extension": ".py",
   "mimetype": "text/x-python",
   "name": "python",
   "nbconvert_exporter": "python",
   "pygments_lexer": "ipython3",
   "version": "3.7.12"
  }
 },
 "nbformat": 4,
 "nbformat_minor": 5
}
