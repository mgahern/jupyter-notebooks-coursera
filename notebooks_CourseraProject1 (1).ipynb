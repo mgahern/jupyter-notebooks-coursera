{
  "metadata": {
    "language_info": {
      "codemirror_mode": {
        "name": "python",
        "version": 3
      },
      "file_extension": ".py",
      "mimetype": "text/x-python",
      "name": "python",
      "nbconvert_exporter": "python",
      "pygments_lexer": "ipython3",
      "version": "3.8"
    },
    "kernelspec": {
      "name": "python",
      "display_name": "Python (Pyodide)",
      "language": "python"
    }
  },
  "nbformat_minor": 4,
  "nbformat": 4,
  "cells": [
    {
      "cell_type": "markdown",
      "source": "# My Jupyter Notebook on IBM Watson Studio",
      "metadata": {}
    },
    {
      "cell_type": "markdown",
      "source": "**MG** \n\nSoftware Engineer",
      "metadata": {}
    },
    {
      "cell_type": "markdown",
      "source": "*I am interested in Data Science because knowledge in that field is in increasingly high demand and this course will allow me more flexibility as I enter the workforce. Learning how to work with data will be invaluable in any tech industry I work in.*",
      "metadata": {}
    },
    {
      "cell_type": "markdown",
      "source": "### The following code will print my favorite dessert",
      "metadata": {}
    },
    {
      "cell_type": "code",
      "source": "print(\"Tiramisu\")",
      "metadata": {
        "trusted": true
      },
      "execution_count": 2,
      "outputs": [
        {
          "name": "stdout",
          "text": "Tiramisu\n",
          "output_type": "stream"
        }
      ]
    },
    {
      "cell_type": "markdown",
      "source": "*******\n - bullet 1\n - bullet 2\n - bullet 3\n\n 1. num 1\n 2. num 2\n 3. num 3\n\n",
      "metadata": {}
    }
  ]
}